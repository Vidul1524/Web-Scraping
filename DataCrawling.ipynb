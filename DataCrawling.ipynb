{
 "cells": [
  {
   "cell_type": "markdown",
   "id": "b2b3af92-761d-4c2f-8eaa-abb05cb49550",
   "metadata": {},
   "source": [
    "## Reading csv from url "
   ]
  },
  {
   "cell_type": "code",
   "execution_count": 19,
   "id": "970c0cd4-5c16-4933-b7a1-a047b793d6df",
   "metadata": {},
   "outputs": [],
   "source": [
    "import io  # to convert text response into file like object\n",
    "import pandas as pd\n",
    "import requests"
   ]
  },
  {
   "cell_type": "code",
   "execution_count": 20,
   "id": "95acf5f2-867b-4232-90d2-c524fdbc82ef",
   "metadata": {},
   "outputs": [],
   "source": [
    "# url containing csv file\n",
    "url=\"https://fred.stlouisfed.org/graph/fredgraph.csv?id=T10YIE&cosd=2017-04-14&coed=2022-04-14\""
   ]
  },
  {
   "cell_type": "code",
   "execution_count": 31,
   "id": "4582ad38-a6af-4f81-9a7f-3f21580b9af8",
   "metadata": {},
   "outputs": [
    {
     "name": "stdout",
     "output_type": "stream",
     "text": [
      "            DATE T10YIE\n",
      "0     2017-04-17   1.88\n",
      "1     2017-04-18   1.85\n",
      "2     2017-04-19   1.85\n",
      "3     2017-04-20   1.85\n",
      "4     2017-04-21   1.84\n",
      "...          ...    ...\n",
      "1299  2022-04-08   2.87\n",
      "1300  2022-04-11   2.91\n",
      "1301  2022-04-12   2.86\n",
      "1302  2022-04-13    2.8\n",
      "1303  2022-04-14   2.89\n",
      "\n",
      "[1304 rows x 2 columns]\n"
     ]
    }
   ],
   "source": [
    "response = requests.get(url)\n",
    "if response.status_code == 200:\n",
    "   csvtext = response.text\n",
    "   csvbuffer = io.StringIO(csvtext)\n",
    "   df = pd.read_csv(csvbuffer)\n",
    "   print(df)"
   ]
  },
  {
   "cell_type": "code",
   "execution_count": 32,
   "id": "327b36ec-3927-4faf-b7b7-0f6594e24f1b",
   "metadata": {},
   "outputs": [
    {
     "data": {
      "text/html": [
       "<div>\n",
       "<style scoped>\n",
       "    .dataframe tbody tr th:only-of-type {\n",
       "        vertical-align: middle;\n",
       "    }\n",
       "\n",
       "    .dataframe tbody tr th {\n",
       "        vertical-align: top;\n",
       "    }\n",
       "\n",
       "    .dataframe thead th {\n",
       "        text-align: right;\n",
       "    }\n",
       "</style>\n",
       "<table border=\"1\" class=\"dataframe\">\n",
       "  <thead>\n",
       "    <tr style=\"text-align: right;\">\n",
       "      <th></th>\n",
       "      <th>DATE</th>\n",
       "      <th>T10YIE</th>\n",
       "    </tr>\n",
       "  </thead>\n",
       "  <tbody>\n",
       "    <tr>\n",
       "      <th>0</th>\n",
       "      <td>2017-04-17</td>\n",
       "      <td>1.88</td>\n",
       "    </tr>\n",
       "    <tr>\n",
       "      <th>1</th>\n",
       "      <td>2017-04-18</td>\n",
       "      <td>1.85</td>\n",
       "    </tr>\n",
       "    <tr>\n",
       "      <th>2</th>\n",
       "      <td>2017-04-19</td>\n",
       "      <td>1.85</td>\n",
       "    </tr>\n",
       "    <tr>\n",
       "      <th>3</th>\n",
       "      <td>2017-04-20</td>\n",
       "      <td>1.85</td>\n",
       "    </tr>\n",
       "    <tr>\n",
       "      <th>4</th>\n",
       "      <td>2017-04-21</td>\n",
       "      <td>1.84</td>\n",
       "    </tr>\n",
       "    <tr>\n",
       "      <th>...</th>\n",
       "      <td>...</td>\n",
       "      <td>...</td>\n",
       "    </tr>\n",
       "    <tr>\n",
       "      <th>1299</th>\n",
       "      <td>2022-04-08</td>\n",
       "      <td>2.87</td>\n",
       "    </tr>\n",
       "    <tr>\n",
       "      <th>1300</th>\n",
       "      <td>2022-04-11</td>\n",
       "      <td>2.91</td>\n",
       "    </tr>\n",
       "    <tr>\n",
       "      <th>1301</th>\n",
       "      <td>2022-04-12</td>\n",
       "      <td>2.86</td>\n",
       "    </tr>\n",
       "    <tr>\n",
       "      <th>1302</th>\n",
       "      <td>2022-04-13</td>\n",
       "      <td>2.8</td>\n",
       "    </tr>\n",
       "    <tr>\n",
       "      <th>1303</th>\n",
       "      <td>2022-04-14</td>\n",
       "      <td>2.89</td>\n",
       "    </tr>\n",
       "  </tbody>\n",
       "</table>\n",
       "<p>1304 rows × 2 columns</p>\n",
       "</div>"
      ],
      "text/plain": [
       "            DATE T10YIE\n",
       "0     2017-04-17   1.88\n",
       "1     2017-04-18   1.85\n",
       "2     2017-04-19   1.85\n",
       "3     2017-04-20   1.85\n",
       "4     2017-04-21   1.84\n",
       "...          ...    ...\n",
       "1299  2022-04-08   2.87\n",
       "1300  2022-04-11   2.91\n",
       "1301  2022-04-12   2.86\n",
       "1302  2022-04-13    2.8\n",
       "1303  2022-04-14   2.89\n",
       "\n",
       "[1304 rows x 2 columns]"
      ]
     },
     "execution_count": 32,
     "metadata": {},
     "output_type": "execute_result"
    }
   ],
   "source": [
    "df"
   ]
  },
  {
   "cell_type": "code",
   "execution_count": null,
   "id": "129fa437-cc7d-4931-8385-b2f93b102855",
   "metadata": {},
   "outputs": [],
   "source": []
  }
 ],
 "metadata": {
  "kernelspec": {
   "display_name": "Python 3 (ipykernel)",
   "language": "python",
   "name": "python3"
  },
  "language_info": {
   "codemirror_mode": {
    "name": "ipython",
    "version": 3
   },
   "file_extension": ".py",
   "mimetype": "text/x-python",
   "name": "python",
   "nbconvert_exporter": "python",
   "pygments_lexer": "ipython3",
   "version": "3.11.4"
  }
 },
 "nbformat": 4,
 "nbformat_minor": 5
}
